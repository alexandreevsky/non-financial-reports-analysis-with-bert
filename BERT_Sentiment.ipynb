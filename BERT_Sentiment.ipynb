{
  "nbformat": 4,
  "nbformat_minor": 0,
  "metadata": {
    "colab": {
      "name": "BERT_Sentiment.ipynb",
      "provenance": [],
      "collapsed_sections": [],
      "toc_visible": true,
      "machine_shape": "hm"
    },
    "kernelspec": {
      "name": "python3",
      "display_name": "Python 3"
    },
    "accelerator": "TPU"
  },
  "cells": [
    {
      "cell_type": "markdown",
      "metadata": {
        "id": "Gch2EwU38n8Z",
        "colab_type": "text"
      },
      "source": [
        "## Загрузка библиотек"
      ]
    },
    {
      "cell_type": "code",
      "metadata": {
        "id": "PKGGpncAKsno",
        "colab_type": "code",
        "colab": {}
      },
      "source": [
        "!pip install -qq transformers\n",
        "!pip install watermark"
      ],
      "execution_count": null,
      "outputs": []
    },
    {
      "cell_type": "code",
      "metadata": {
        "id": "j0dcvgK4N5RI",
        "colab_type": "code",
        "colab": {}
      },
      "source": [
        "import watermark\n",
        "%reload_ext watermark\n",
        "%watermark -v -p numpy,pandas,torch,transformers,sklearn.linear_model, plotly"
      ],
      "execution_count": null,
      "outputs": []
    },
    {
      "cell_type": "code",
      "metadata": {
        "id": "9W-3LnYqOJm7",
        "colab_type": "code",
        "colab": {}
      },
      "source": [
        "import transformers\n",
        "import torch\n",
        "\n",
        "import io\n",
        "import time\n",
        "import pickle\n",
        "import csv\n",
        "import os\n",
        "\n",
        "import numpy as np\n",
        "import pandas as pd\n",
        "import seaborn as sns\n",
        "import plotly.graph_objs as go\n",
        "import matplotlib.pyplot as plt\n",
        "\n",
        "from matplotlib import rc\n",
        "from pylab import rcParams\n",
        "\n",
        "from sklearn.model_selection import train_test_split\n",
        "from sklearn.model_selection import cross_val_score\n",
        "from sklearn.metrics import confusion_matrix, classification_report\n",
        "\n",
        "from torch import nn, optim\n",
        "from torch.utils.data import Dataset, DataLoader\n",
        "\n",
        "%matplotlib inline\n",
        "%config InlineBackend.figure_format='retina'\n",
        "\n",
        "sns.set(style='whitegrid', palette='muted', font_scale=1.2)\n",
        "\n",
        "COLORS_PALETTE = [\"#01BEFE\", \"#FFDD00\", \"#FF7D00\", \"#FF006D\", \"#ADFF02\", \"#8F00FF\"]\n",
        "\n",
        "sns.set_palette(sns.color_palette(COLORS_PALETTE))\n",
        "\n",
        "rcParams['figure.figsize'] = 12, 8\n",
        "\n",
        "RANDOM_SEED = 42\n",
        "np.random.seed(RANDOM_SEED)\n",
        "torch.manual_seed(RANDOM_SEED)\n",
        "device = torch.device(\"cuda:0\" if torch.cuda.is_available() else \"cpu\")\n",
        "\n",
        "pd.set_option('display.max_colwidth', 200)\n"
      ],
      "execution_count": null,
      "outputs": []
    },
    {
      "cell_type": "markdown",
      "metadata": {
        "id": "Z9bmH21lcDqO",
        "colab_type": "text"
      },
      "source": [
        "Подключаем Google Drive для локального хранения данных"
      ]
    },
    {
      "cell_type": "code",
      "metadata": {
        "id": "e6xQeDXpcCXf",
        "colab_type": "code",
        "colab": {}
      },
      "source": [
        "from google.colab import drive\n",
        "drive.mount('/content/gdrive')"
      ],
      "execution_count": null,
      "outputs": []
    },
    {
      "cell_type": "markdown",
      "metadata": {
        "id": "e2a2AElsnC5F",
        "colab_type": "text"
      },
      "source": [
        "Настраиваем отображение графиков (для работы в Google Colab)"
      ]
    },
    {
      "cell_type": "code",
      "metadata": {
        "id": "UGJH3wWenEwH",
        "colab_type": "code",
        "colab": {}
      },
      "source": [
        "# !pip install cufflinks --upgrade \n",
        "\n",
        "import cufflinks\n",
        "cufflinks.go_offline()\n",
        "cufflinks.set_config_file(world_readable=True, theme='pearl')\n",
        "\n",
        "from IPython.core.interactiveshell import InteractiveShell\n",
        "InteractiveShell.ast_node_interactivity = 'all'"
      ],
      "execution_count": null,
      "outputs": []
    },
    {
      "cell_type": "code",
      "metadata": {
        "id": "baO02GmpnOdu",
        "colab_type": "code",
        "colab": {}
      },
      "source": [
        "def configure_plotly_browser_state():\n",
        "  import IPython\n",
        "  display(IPython.core.display.HTML('''\n",
        "        <script src=\"/static/components/requirejs/require.js?x49997\"></script>\n",
        "        <script>\n",
        "          requirejs.config({\n",
        "            paths: {\n",
        "              base: '/static/base',\n",
        "              plotly: 'https://cdn.plot.ly/plotly-1.5.1.min.js?noext',\n",
        "            },\n",
        "          });\n",
        "        </script>\n",
        "        '''))"
      ],
      "execution_count": null,
      "outputs": []
    },
    {
      "cell_type": "markdown",
      "metadata": {
        "id": "00uYsHhW1snQ",
        "colab_type": "text"
      },
      "source": [
        "## Подготовка обучающей выборки"
      ]
    },
    {
      "cell_type": "markdown",
      "metadata": {
        "id": "1JG0PHvzldS2",
        "colab_type": "text"
      },
      "source": [
        "Загружаем размеченную выборку"
      ]
    },
    {
      "cell_type": "code",
      "metadata": {
        "id": "gj-yCdGqTCft",
        "colab_type": "code",
        "colab": {}
      },
      "source": [
        "!gdown --id 1MSfU7VGOlXSGdObF5hSE7XDnZ5frz0zc"
      ],
      "execution_count": null,
      "outputs": []
    },
    {
      "cell_type": "markdown",
      "metadata": {
        "id": "nohuPELm4BMA",
        "colab_type": "text"
      },
      "source": [
        "Изучаем данные:"
      ]
    },
    {
      "cell_type": "code",
      "metadata": {
        "id": "NYo66k_IWF4U",
        "colab_type": "code",
        "colab": {}
      },
      "source": [
        "df = pd.read_csv('Training_data.csv', \n",
        "                  header=0)"
      ],
      "execution_count": null,
      "outputs": []
    },
    {
      "cell_type": "code",
      "metadata": {
        "id": "u0KcK8sjlud1",
        "colab_type": "code",
        "colab": {}
      },
      "source": [
        "df = df.drop_duplicates(subset=['Sentence'])"
      ],
      "execution_count": null,
      "outputs": []
    },
    {
      "cell_type": "code",
      "metadata": {
        "id": "T6q_qT0eY-Pu",
        "colab_type": "code",
        "colab": {}
      },
      "source": [
        "df = df[:1700]"
      ],
      "execution_count": null,
      "outputs": []
    },
    {
      "cell_type": "code",
      "metadata": {
        "id": "dHtjfOtC7rb0",
        "colab_type": "code",
        "colab": {}
      },
      "source": [
        "df['word_count'] = df.Sentence.apply(lambda x: len(x.split()))"
      ],
      "execution_count": null,
      "outputs": []
    },
    {
      "cell_type": "code",
      "metadata": {
        "id": "X4J59YbRWmYd",
        "colab_type": "code",
        "colab": {}
      },
      "source": [
        "df.head()"
      ],
      "execution_count": null,
      "outputs": []
    },
    {
      "cell_type": "code",
      "metadata": {
        "id": "9S_R9zilWwZV",
        "colab_type": "code",
        "colab": {}
      },
      "source": [
        "df.shape"
      ],
      "execution_count": null,
      "outputs": []
    },
    {
      "cell_type": "code",
      "metadata": {
        "id": "mETa0SNjbkm2",
        "colab_type": "code",
        "colab": {}
      },
      "source": [
        "df.Score.unique()"
      ],
      "execution_count": null,
      "outputs": []
    },
    {
      "cell_type": "code",
      "metadata": {
        "id": "2Y-XyrXu7WVT",
        "colab_type": "code",
        "colab": {}
      },
      "source": [
        "max(df.word_count)"
      ],
      "execution_count": null,
      "outputs": []
    },
    {
      "cell_type": "markdown",
      "metadata": {
        "id": "2QUjMW1RlQ1D",
        "colab_type": "text"
      },
      "source": [
        "## EDA"
      ]
    },
    {
      "cell_type": "markdown",
      "metadata": {
        "id": "wwDv8v1I4IPE",
        "colab_type": "text"
      },
      "source": [
        "Визуализируем данные:"
      ]
    },
    {
      "cell_type": "code",
      "metadata": {
        "id": "RcYqI0HNTj8d",
        "colab_type": "code",
        "colab": {}
      },
      "source": [
        "class_names = ['Нейтральная', 'Положительная', 'Отрицательная']"
      ],
      "execution_count": null,
      "outputs": []
    },
    {
      "cell_type": "code",
      "metadata": {
        "id": "eXWMKOCITmGE",
        "colab_type": "code",
        "colab": {}
      },
      "source": [
        "ax = sns.countplot(df.Score, order =df.Score.value_counts().index)\n",
        "colors = [\"#87CEFA\", \"#90EE90\", \"#FA8072\"]\n",
        "sns.set_palette(sns.color_palette(colors))\n",
        "ax.spines['top'].set_visible(False)\n",
        "ax.spines['right'].set_visible(False)\n",
        "ax.grid(False)\n",
        "plt.xlabel('Тональность отчетов');\n",
        "plt.ylabel('Количество');\n",
        "ax.set_xticklabels(class_names);"
      ],
      "execution_count": null,
      "outputs": []
    },
    {
      "cell_type": "markdown",
      "metadata": {
        "id": "VGmdluPhfWr8",
        "colab_type": "text"
      },
      "source": [
        "Обучающая выборка получилась несбалансированной – доля предложений с нейтральной тональностью значительно превышает остальные. Однако это отражает специфику нефинансовой отчетности, в которой также преобладает нейтральная тональность, поэтому наполнение выборки было решено оставить без изменений.  "
      ]
    },
    {
      "cell_type": "markdown",
      "metadata": {
        "id": "n8omzBM2fO8q",
        "colab_type": "text"
      },
      "source": [
        "Распределение длины предложений по категориям тональности"
      ]
    },
    {
      "cell_type": "code",
      "metadata": {
        "id": "HQnqkL1ZCYeu",
        "colab_type": "code",
        "colab": {}
      },
      "source": [
        "configure_plotly_browser_state()\n",
        "\n",
        "df[df['Score']==1]['word_count'].iplot(\n",
        "    kind='hist',\n",
        "    bins=100,\n",
        "    xTitle='text length',\n",
        "    linecolor='black',\n",
        "    color='red',\n",
        "    yTitle='count',\n",
        "    title='Positive Text Length Distribution')\n",
        "\n",
        "df[df['Score']==-1]['word_count'].iplot(\n",
        "    kind='hist',\n",
        "    bins=100,\n",
        "    xTitle='text length',\n",
        "    linecolor='black',\n",
        "    color='green',\n",
        "    yTitle='count',\n",
        "    title='Negative Text Length Distribution')\n",
        "\n",
        "df[df['Score']==0]['word_count'].iplot(\n",
        "    kind='hist',\n",
        "    bins=100,\n",
        "    xTitle='text length',\n",
        "    linecolor='black',\n",
        "    yTitle='count',\n",
        "    title='Neutral Text Length Distribution')"
      ],
      "execution_count": null,
      "outputs": []
    },
    {
      "cell_type": "markdown",
      "metadata": {
        "id": "b-elMsFrCrWP",
        "colab_type": "text"
      },
      "source": [
        "## Обучение BERT"
      ]
    },
    {
      "cell_type": "markdown",
      "metadata": {
        "id": "b1rTWaTLGfpZ",
        "colab_type": "text"
      },
      "source": [
        "### Токенизация предложений"
      ]
    },
    {
      "cell_type": "code",
      "metadata": {
        "colab_type": "code",
        "id": "1GfqKWpvGK2N",
        "colab": {}
      },
      "source": [
        "from transformers import AutoTokenizer"
      ],
      "execution_count": null,
      "outputs": []
    },
    {
      "cell_type": "code",
      "metadata": {
        "colab_type": "code",
        "id": "LTje-jQPGK2S",
        "colab": {}
      },
      "source": [
        "tkz = AutoTokenizer.from_pretrained(\"DeepPavlov/rubert-base-cased-sentence\")"
      ],
      "execution_count": null,
      "outputs": []
    },
    {
      "cell_type": "code",
      "metadata": {
        "colab_type": "code",
        "id": "hSQAzg81GK2W",
        "colab": {}
      },
      "source": [
        "sample_txt = 'Развитие компании проходит в условиях повышенной конкуренции'"
      ],
      "execution_count": null,
      "outputs": []
    },
    {
      "cell_type": "code",
      "metadata": {
        "colab_type": "code",
        "id": "P2r-jQlFGK2Z",
        "colab": {}
      },
      "source": [
        "tokens_tkz = tkz.tokenize(sample_txt)\n",
        "tokens_tkz"
      ],
      "execution_count": null,
      "outputs": []
    },
    {
      "cell_type": "code",
      "metadata": {
        "id": "X9Q3IIUhGOMC",
        "colab_type": "code",
        "colab": {}
      },
      "source": [
        "text_encoded = tkz.encode(tokens_tkz)\n",
        "text_encoded"
      ],
      "execution_count": null,
      "outputs": []
    },
    {
      "cell_type": "code",
      "metadata": {
        "id": "2lJpknu6GVZP",
        "colab_type": "code",
        "colab": {}
      },
      "source": [
        "text_decode = tkz.decode(text_encoded)\n",
        "text_decode "
      ],
      "execution_count": null,
      "outputs": []
    },
    {
      "cell_type": "markdown",
      "metadata": {
        "id": "my8DKpNpGis7",
        "colab_type": "text"
      },
      "source": [
        "### Загрузка предобученной модели"
      ]
    },
    {
      "cell_type": "code",
      "metadata": {
        "id": "0EWgyc19GnTU",
        "colab_type": "code",
        "colab": {}
      },
      "source": [
        "from transformers import AutoModelWithLMHead"
      ],
      "execution_count": null,
      "outputs": []
    },
    {
      "cell_type": "code",
      "metadata": {
        "id": "zeOWBVdjGlPR",
        "colab_type": "code",
        "colab": {}
      },
      "source": [
        "model = AutoModelWithLMHead.from_pretrained(\"DeepPavlov/rubert-base-cased-sentence\")"
      ],
      "execution_count": null,
      "outputs": []
    },
    {
      "cell_type": "markdown",
      "metadata": {
        "id": "FhYT9752HOoo",
        "colab_type": "text"
      },
      "source": [
        "### Обучение модели на размеченной выборке"
      ]
    },
    {
      "cell_type": "code",
      "metadata": {
        "id": "5T7_1NkNmUT-",
        "colab_type": "code",
        "colab": {}
      },
      "source": [
        "df.Sentence = df.Sentence.map(lambda x: str(x).lower()) # переводим символы в нижний регистр"
      ],
      "execution_count": null,
      "outputs": []
    },
    {
      "cell_type": "code",
      "metadata": {
        "id": "TlJQx3swJtz3",
        "colab_type": "code",
        "colab": {}
      },
      "source": [
        "df['tokenized'] = df.Sentence.apply((lambda x: tkz.encode(tkz.tokenize(x))))"
      ],
      "execution_count": null,
      "outputs": []
    },
    {
      "cell_type": "code",
      "metadata": {
        "id": "1piSyylhZNTH",
        "colab_type": "code",
        "colab": {}
      },
      "source": [
        "df.head()"
      ],
      "execution_count": null,
      "outputs": []
    },
    {
      "cell_type": "markdown",
      "metadata": {
        "id": "HWNAyuN1oAT-",
        "colab_type": "text"
      },
      "source": [
        "Так как обучение BERT требует много памяти, разобьем обучающую выборку на несколько частей и будем последовательно обучать на них модель"
      ]
    },
    {
      "cell_type": "code",
      "metadata": {
        "id": "yNmUbpwsqr9A",
        "colab_type": "code",
        "colab": {}
      },
      "source": [
        "df_dict = dict()\n",
        "for i in range(0,len(df),200):\n",
        "  df_dict['{}'.format(i)] = df[i:i+200]\n",
        "\n",
        "df_dict.keys()"
      ],
      "execution_count": null,
      "outputs": []
    },
    {
      "cell_type": "code",
      "metadata": {
        "id": "CxBxat_XnxWV",
        "colab_type": "code",
        "colab": {}
      },
      "source": [
        "padded = np.array([i + [0]*(max_len-len(i)) for i in df_1.tokenized.values])"
      ],
      "execution_count": null,
      "outputs": []
    },
    {
      "cell_type": "code",
      "metadata": {
        "id": "bmnGirKDJt3X",
        "colab_type": "code",
        "colab": {}
      },
      "source": [
        "np.array(padded).shape"
      ],
      "execution_count": null,
      "outputs": []
    },
    {
      "cell_type": "code",
      "metadata": {
        "id": "S7z6L19jJtxr",
        "colab_type": "code",
        "colab": {}
      },
      "source": [
        "np.array(padded)[2]"
      ],
      "execution_count": null,
      "outputs": []
    },
    {
      "cell_type": "markdown",
      "metadata": {
        "id": "g20vJ4mfruzC",
        "colab_type": "text"
      },
      "source": [
        "Собираем обработанные данные"
      ]
    },
    {
      "cell_type": "code",
      "metadata": {
        "id": "MY2ZRgSIr2tL",
        "colab_type": "code",
        "colab": {}
      },
      "source": [
        "def train_model(df, features_list):\n",
        "\n",
        "  # Токенизируем предложения\n",
        "  df['tokenized'] = df.Sentence.apply((lambda x: tkz.encode(tkz.tokenize(x))))\n",
        "\n",
        "  # Вычисляем длину наибольшего токена\n",
        "  max_len = 0\n",
        "  for index, i in df.tokenized.iteritems():\n",
        "      if len(i) > max_len:\n",
        "          max_len = len(i)\n",
        "\n",
        "  # Создаем массив и заполняем его токенами\n",
        "  padded = np.array([i + [0]*(max_len-len(i)) for i in df.tokenized.values])\n",
        "  attention_mask = np.where(padded != 0, 1, 0)\n",
        "\n",
        "  input_ids = torch.tensor(padded)  \n",
        "  attention_mask = torch.tensor(attention_mask)\n",
        "\n",
        "  # Обучаем модель\n",
        "\n",
        "  with torch.no_grad():\n",
        "      last_hidden_states = model(input_ids, attention_mask=attention_mask)  \n",
        "\n",
        "  # Сохраняем признаки\n",
        "  features = last_hidden_states[0][:,0,:].numpy()\n",
        "  features_list.append(features)\n",
        "\n",
        "  return None"
      ],
      "execution_count": null,
      "outputs": []
    },
    {
      "cell_type": "code",
      "metadata": {
        "id": "ye1HAx0TbLA6",
        "colab_type": "code",
        "colab": {}
      },
      "source": [
        "features_list_1 = []\n",
        "\n",
        "for i in range(0,800,200):\n",
        "  prepare_df(df_dict[\"{}\".format(i)], features_list=features_list_1)\n",
        "  time.sleep(5)"
      ],
      "execution_count": null,
      "outputs": []
    },
    {
      "cell_type": "code",
      "metadata": {
        "id": "TvTra7k1bTD0",
        "colab_type": "code",
        "colab": {}
      },
      "source": [
        "features_list_2 = []\n",
        "\n",
        "for i in range(800,1200,200):\n",
        "  prepare_df(df_dict[\"{}\".format(i)], features_list=features_list_2)\n",
        "  time.sleep(5)"
      ],
      "execution_count": null,
      "outputs": []
    },
    {
      "cell_type": "code",
      "metadata": {
        "id": "e3JlztmRs5ws",
        "colab_type": "code",
        "colab": {}
      },
      "source": [
        "features_list_3 = []\n",
        "\n",
        "for i in range(1200,1700,200):\n",
        "  prepare_df(df_dict[\"{}\".format(i)], features_list=features_list_3)\n",
        "  time.sleep(5)"
      ],
      "execution_count": null,
      "outputs": []
    },
    {
      "cell_type": "code",
      "metadata": {
        "id": "mMIUaHyW2AKG",
        "colab_type": "code",
        "colab": {}
      },
      "source": [
        "features_1 = np.vstack(features_list_1)\n",
        "features_2 = np.vstack(features_list_2)\n",
        "features_3 = np.vstack(features_list_3)"
      ],
      "execution_count": null,
      "outputs": []
    },
    {
      "cell_type": "markdown",
      "metadata": {
        "id": "N7-0qT2mbxe6",
        "colab_type": "text"
      },
      "source": [
        "Локально сохраняем сгенерированные признаки:"
      ]
    },
    {
      "cell_type": "code",
      "metadata": {
        "id": "n76hUcgdy9Fq",
        "colab_type": "code",
        "colab": {}
      },
      "source": [
        "filename_1 = '/content/gdrive/My Drive/bert_features_1'\n",
        "filename_2 = '/content/gdrive/My Drive/bert_features_2'\n",
        "filename_3 = '/content/gdrive/My Drive/bert_features_3'\n",
        "\n",
        "np.save(file=filename,arr=features_1)\n",
        "np.save(file=filename,arr=features_2)\n",
        "np.save(file=filename,arr=features_3)"
      ],
      "execution_count": null,
      "outputs": []
    },
    {
      "cell_type": "markdown",
      "metadata": {
        "id": "o79Ifkincekz",
        "colab_type": "text"
      },
      "source": [
        "Загружаем признаки и объединяем в один список"
      ]
    },
    {
      "cell_type": "code",
      "metadata": {
        "id": "YRtCNHek0uG5",
        "colab_type": "code",
        "colab": {}
      },
      "source": [
        "!cp \"/content/gdrive/My Drive/bert_features_1.npy\" \"bert_features_1.npy\"\n",
        "!cp \"/content/gdrive/My Drive/bert_features_2.npy\" \"bert_features_2.npy\"\n",
        "!cp \"/content/gdrive/My Drive/bert_features_3.npy\" \"bert_features_3.npy\""
      ],
      "execution_count": null,
      "outputs": []
    },
    {
      "cell_type": "code",
      "metadata": {
        "id": "6wPY4VXY35-K",
        "colab_type": "code",
        "colab": {}
      },
      "source": [
        "feat_1 = np.load('bert_features_1.npy')\n",
        "feat_2 = np.load('bert_features_2.npy')\n",
        "feat_3 = np.load('bert_features_3.npy')"
      ],
      "execution_count": null,
      "outputs": []
    },
    {
      "cell_type": "code",
      "metadata": {
        "id": "bT73DIY14dxZ",
        "colab_type": "code",
        "colab": {}
      },
      "source": [
        "features = np.vstack([feat_1,feat_2,feat_3])\n",
        "print('Количество признаков в обучающей выборке:', features.shape[1])"
      ],
      "execution_count": null,
      "outputs": []
    },
    {
      "cell_type": "markdown",
      "metadata": {
        "id": "b0rryDupK695",
        "colab_type": "text"
      },
      "source": [
        "### Train-test split"
      ]
    },
    {
      "cell_type": "markdown",
      "metadata": {
        "id": "YxVokC4Ac1Bf",
        "colab_type": "text"
      },
      "source": [
        "Разбиваем обучающую выборку на тренировочную и тестовую"
      ]
    },
    {
      "cell_type": "code",
      "metadata": {
        "id": "lsLl1oYxcwjD",
        "colab_type": "code",
        "colab": {}
      },
      "source": [
        "labels = df.Score"
      ],
      "execution_count": null,
      "outputs": []
    },
    {
      "cell_type": "code",
      "metadata": {
        "id": "38Ro_re7KXR9",
        "colab_type": "code",
        "colab": {}
      },
      "source": [
        "train_features, test_features, train_labels, test_labels = train_test_split(features, labels, test_size=0.25)"
      ],
      "execution_count": null,
      "outputs": []
    },
    {
      "cell_type": "markdown",
      "metadata": {
        "id": "frLkdPNx5Mhm",
        "colab_type": "text"
      },
      "source": [
        "## Выбор классификатора"
      ]
    },
    {
      "cell_type": "markdown",
      "metadata": {
        "id": "3C91nytPc51P",
        "colab_type": "text"
      },
      "source": [
        "Обучим классификаторы, которые будут предсказывать тональность предложений по сгенерированным моделью BERT признакам. Опробуем несколько классификаторов и выберем тот, который покажет наибольшую точность на контрольной выборке"
      ]
    },
    {
      "cell_type": "markdown",
      "metadata": {
        "id": "j_UX-HAz_dRH",
        "colab_type": "text"
      },
      "source": [
        "#### Dummy Classifier"
      ]
    },
    {
      "cell_type": "code",
      "metadata": {
        "id": "55lLThniM7l7",
        "colab_type": "code",
        "colab": {}
      },
      "source": [
        "from sklearn.dummy import DummyClassifier\n",
        "clf = DummyClassifier(strategy='most_frequent')\n",
        "\n",
        "scores = cross_val_score(clf, train_features, train_labels)\n",
        "print(\"Dummy classifier score: %0.3f (+/- %0.2f)\" % (scores.mean(), scores.std() * 2))"
      ],
      "execution_count": null,
      "outputs": []
    },
    {
      "cell_type": "markdown",
      "metadata": {
        "id": "ztWr-zupgdkf",
        "colab_type": "text"
      },
      "source": [
        "#### Логистическая регрессия"
      ]
    },
    {
      "cell_type": "markdown",
      "metadata": {
        "id": "NY5QDnoLCQFV",
        "colab_type": "text"
      },
      "source": [
        "##### Обучаем классификатор"
      ]
    },
    {
      "cell_type": "code",
      "metadata": {
        "id": "CZQ82T2mkjcH",
        "colab_type": "code",
        "colab": {}
      },
      "source": [
        "from sklearn.linear_model import LogisticRegression"
      ],
      "execution_count": null,
      "outputs": []
    },
    {
      "cell_type": "code",
      "metadata": {
        "id": "UhIiRe2r5Z6g",
        "colab_type": "code",
        "colab": {}
      },
      "source": [
        "lr_clf = LogisticRegression(max_iter=1000, C=4.0)\n",
        "lr_clf.fit(train_features, train_labels)"
      ],
      "execution_count": null,
      "outputs": []
    },
    {
      "cell_type": "code",
      "metadata": {
        "id": "AvcyTZWn5g_R",
        "colab_type": "code",
        "colab": {}
      },
      "source": [
        "accuracy = lr_clf.score(test_features, test_labels)\n",
        "print('LR Accuracy:', accuracy)"
      ],
      "execution_count": null,
      "outputs": []
    },
    {
      "cell_type": "code",
      "metadata": {
        "id": "OKDh5O5_8O4r",
        "colab_type": "code",
        "colab": {}
      },
      "source": [
        "from sklearn.metrics import classification_report"
      ],
      "execution_count": null,
      "outputs": []
    },
    {
      "cell_type": "code",
      "metadata": {
        "id": "sRu7LfrP8Wvh",
        "colab_type": "code",
        "colab": {}
      },
      "source": [
        "labels_test = test_labels.to_list()"
      ],
      "execution_count": null,
      "outputs": []
    },
    {
      "cell_type": "code",
      "metadata": {
        "id": "os9cUbag8jG4",
        "colab_type": "code",
        "colab": {}
      },
      "source": [
        "labels_pred = lr_clf.predict(test_features).tolist()"
      ],
      "execution_count": null,
      "outputs": []
    },
    {
      "cell_type": "code",
      "metadata": {
        "id": "iFa2TsXu8QI7",
        "colab_type": "code",
        "colab": {}
      },
      "source": [
        "class_names = ['Отрицательная', 'Нейтральная', 'Положительная']\n",
        "print(classification_report(y_true=labels_test, \n",
        "                            y_pred=labels_pred,\n",
        "                            target_names=class_names))"
      ],
      "execution_count": null,
      "outputs": []
    },
    {
      "cell_type": "markdown",
      "metadata": {
        "id": "D1asOIyh-6vg",
        "colab_type": "text"
      },
      "source": [
        "##### Сохраняем результаты"
      ]
    },
    {
      "cell_type": "code",
      "metadata": {
        "id": "wb5DPv62_FZY",
        "colab_type": "code",
        "colab": {}
      },
      "source": [
        "filename = 'lr_model.sav'\n",
        "pickle.dump(lr_clf, open(filename, 'wb'))"
      ],
      "execution_count": null,
      "outputs": []
    },
    {
      "cell_type": "markdown",
      "metadata": {
        "id": "V7iJijwYBjRd",
        "colab_type": "text"
      },
      "source": [
        "#### SVM"
      ]
    },
    {
      "cell_type": "markdown",
      "metadata": {
        "id": "N8IEGkNRCXtb",
        "colab_type": "text"
      },
      "source": [
        "##### Обучаем классификатор"
      ]
    },
    {
      "cell_type": "code",
      "metadata": {
        "id": "83PQNVHhBqVx",
        "colab_type": "code",
        "colab": {}
      },
      "source": [
        "from sklearn import svm"
      ],
      "execution_count": null,
      "outputs": []
    },
    {
      "cell_type": "code",
      "metadata": {
        "id": "GpdETszKBqR8",
        "colab_type": "code",
        "colab": {}
      },
      "source": [
        "svm_clf = svm.SVC(kernel='linear', C=4.0) "
      ],
      "execution_count": null,
      "outputs": []
    },
    {
      "cell_type": "code",
      "metadata": {
        "id": "Cff7ODs_BqOX",
        "colab_type": "code",
        "colab": {}
      },
      "source": [
        "svm_clf.fit(train_features, train_labels)"
      ],
      "execution_count": null,
      "outputs": []
    },
    {
      "cell_type": "code",
      "metadata": {
        "id": "Zb4K-zveDeS1",
        "colab_type": "code",
        "colab": {}
      },
      "source": [
        "svm_clf.fit(train_features, train_labels)"
      ],
      "execution_count": null,
      "outputs": []
    },
    {
      "cell_type": "code",
      "metadata": {
        "id": "tZVWRBsIQrmd",
        "colab_type": "code",
        "colab": {}
      },
      "source": [
        "labels_test = test_labels.to_list()"
      ],
      "execution_count": null,
      "outputs": []
    },
    {
      "cell_type": "code",
      "metadata": {
        "id": "-s4ecC_xBqKo",
        "colab_type": "code",
        "colab": {}
      },
      "source": [
        "accuracy = svm_clf.score(test_features, test_labels)\n",
        "print('SVM Accuracy:', accuracy)"
      ],
      "execution_count": null,
      "outputs": []
    },
    {
      "cell_type": "code",
      "metadata": {
        "colab_type": "code",
        "id": "cVH_epJxC5Oo",
        "colab": {}
      },
      "source": [
        "labels_pred = svm_clf.predict(test_features).tolist()"
      ],
      "execution_count": null,
      "outputs": []
    },
    {
      "cell_type": "code",
      "metadata": {
        "colab_type": "code",
        "id": "o-qQROlYC5Or",
        "colab": {}
      },
      "source": [
        "class_names = ['Отрицательная', 'Нейтральная', 'Положительная']\n",
        "print(classification_report(y_true=labels_test, \n",
        "                            y_pred=labels_pred,\n",
        "                            target_names=class_names))"
      ],
      "execution_count": null,
      "outputs": []
    },
    {
      "cell_type": "markdown",
      "metadata": {
        "id": "GjK04eedHqh1",
        "colab_type": "text"
      },
      "source": [
        "#### Naive Bayes"
      ]
    },
    {
      "cell_type": "markdown",
      "metadata": {
        "id": "zg38cV28HxLy",
        "colab_type": "text"
      },
      "source": [
        "##### Обучаем классификатор"
      ]
    },
    {
      "cell_type": "code",
      "metadata": {
        "id": "0ZNNNkSQHxcp",
        "colab_type": "code",
        "colab": {}
      },
      "source": [
        "from sklearn.naive_bayes import GaussianNB"
      ],
      "execution_count": null,
      "outputs": []
    },
    {
      "cell_type": "code",
      "metadata": {
        "id": "RgXQ2c4YH10J",
        "colab_type": "code",
        "colab": {}
      },
      "source": [
        "gnb_clf = GaussianNB()"
      ],
      "execution_count": null,
      "outputs": []
    },
    {
      "cell_type": "code",
      "metadata": {
        "id": "gVD4w8dkH1w5",
        "colab_type": "code",
        "colab": {}
      },
      "source": [
        "gnb_clf.fit(train_features, train_labels)"
      ],
      "execution_count": null,
      "outputs": []
    },
    {
      "cell_type": "code",
      "metadata": {
        "id": "zzo72GM6H1t8",
        "colab_type": "code",
        "colab": {}
      },
      "source": [
        "accuracy = gnb_clf.score(test_features, test_labels)\n",
        "print('GNB Accuracy:', accuracy)"
      ],
      "execution_count": null,
      "outputs": []
    },
    {
      "cell_type": "code",
      "metadata": {
        "id": "SILtk9KBIdcm",
        "colab_type": "code",
        "colab": {}
      },
      "source": [
        "labels_pred = gnb_clf.predict(test_features).tolist()"
      ],
      "execution_count": null,
      "outputs": []
    },
    {
      "cell_type": "code",
      "metadata": {
        "id": "-LhWWc1YQua1",
        "colab_type": "code",
        "colab": {}
      },
      "source": [
        "labels_test = test_labels.to_list()"
      ],
      "execution_count": null,
      "outputs": []
    },
    {
      "cell_type": "code",
      "metadata": {
        "id": "BIbfmL8hH1q5",
        "colab_type": "code",
        "colab": {}
      },
      "source": [
        "class_names = ['Отрицательная', 'Нейтральная', 'Положительная']\n",
        "print(classification_report(y_true=labels_test, \n",
        "                            y_pred=labels_pred,\n",
        "                            target_names=class_names))"
      ],
      "execution_count": null,
      "outputs": []
    },
    {
      "cell_type": "markdown",
      "metadata": {
        "id": "67RfrCnEIzNP",
        "colab_type": "text"
      },
      "source": [
        "#### Decision Trees"
      ]
    },
    {
      "cell_type": "markdown",
      "metadata": {
        "id": "NtxDk9-TI_Nm",
        "colab_type": "text"
      },
      "source": [
        "##### Обучаем классификатор"
      ]
    },
    {
      "cell_type": "code",
      "metadata": {
        "id": "f-g3n0O0Iz4Z",
        "colab_type": "code",
        "colab": {}
      },
      "source": [
        "from sklearn.tree import DecisionTreeClassifier "
      ],
      "execution_count": null,
      "outputs": []
    },
    {
      "cell_type": "code",
      "metadata": {
        "id": "6th_2xntI0qu",
        "colab_type": "code",
        "colab": {}
      },
      "source": [
        "dtc_clf = DecisionTreeClassifier()"
      ],
      "execution_count": null,
      "outputs": []
    },
    {
      "cell_type": "code",
      "metadata": {
        "colab_type": "code",
        "id": "Rjl3BL-hJSWL",
        "colab": {}
      },
      "source": [
        "dtc_clf.fit(train_features, train_labels)"
      ],
      "execution_count": null,
      "outputs": []
    },
    {
      "cell_type": "code",
      "metadata": {
        "colab_type": "code",
        "id": "QOfNCvFTJSWU",
        "colab": {}
      },
      "source": [
        "accuracy = dtc_clf.score(test_features, test_labels)\n",
        "print('Decision Tree Accuracy:', accuracy)"
      ],
      "execution_count": null,
      "outputs": []
    },
    {
      "cell_type": "code",
      "metadata": {
        "colab_type": "code",
        "id": "MZeGtUmbJSWZ",
        "colab": {}
      },
      "source": [
        "labels_pred = dtc_clf.predict(test_features).tolist()"
      ],
      "execution_count": null,
      "outputs": []
    },
    {
      "cell_type": "code",
      "metadata": {
        "id": "vcghkj-YQv06",
        "colab_type": "code",
        "colab": {}
      },
      "source": [
        "labels_test = test_labels.to_list()"
      ],
      "execution_count": null,
      "outputs": []
    },
    {
      "cell_type": "code",
      "metadata": {
        "colab_type": "code",
        "id": "iMwB2U46JSWx",
        "colab": {}
      },
      "source": [
        "class_names = ['Отрицательная', 'Нейтральная', 'Положительная']\n",
        "print(classification_report(y_true=labels_test, \n",
        "                            y_pred=labels_pred,\n",
        "                            target_names=class_names))"
      ],
      "execution_count": null,
      "outputs": []
    },
    {
      "cell_type": "markdown",
      "metadata": {
        "colab_type": "text",
        "id": "uFfvWwqwJ-Bd"
      },
      "source": [
        "#### Random Forest"
      ]
    },
    {
      "cell_type": "markdown",
      "metadata": {
        "colab_type": "text",
        "id": "g7bhpAXqJ-Bi"
      },
      "source": [
        "##### Обучаем классификатор "
      ]
    },
    {
      "cell_type": "code",
      "metadata": {
        "colab_type": "code",
        "id": "kZhpROYOJ-Be",
        "colab": {}
      },
      "source": [
        "from sklearn.ensemble import RandomForestClassifier"
      ],
      "execution_count": null,
      "outputs": []
    },
    {
      "cell_type": "code",
      "metadata": {
        "colab_type": "code",
        "id": "oC1Ty-UMJ-Bi",
        "colab": {}
      },
      "source": [
        "rf_clf=RandomForestClassifier(n_estimators=100)"
      ],
      "execution_count": null,
      "outputs": []
    },
    {
      "cell_type": "code",
      "metadata": {
        "colab_type": "code",
        "id": "k24P0JEHJ-Bm",
        "colab": {}
      },
      "source": [
        "rf_clf.fit(train_features, train_labels)"
      ],
      "execution_count": null,
      "outputs": []
    },
    {
      "cell_type": "code",
      "metadata": {
        "colab_type": "code",
        "id": "kZ5T53bLJ-Bq",
        "colab": {}
      },
      "source": [
        "accuracy = rf_clf.score(test_features, test_labels)\n",
        "print('Decision Tree Accuracy:', accuracy)"
      ],
      "execution_count": null,
      "outputs": []
    },
    {
      "cell_type": "markdown",
      "metadata": {
        "id": "R6dPkwY04giz",
        "colab_type": "text"
      },
      "source": [
        "Random Forest оказался наилучшим классификатором, показав точность 0.83 на контрольной выборке."
      ]
    },
    {
      "cell_type": "code",
      "metadata": {
        "colab_type": "code",
        "id": "z1-Kyh46J-B1",
        "colab": {}
      },
      "source": [
        "labels_pred = rf_clf.predict(test_features).tolist()"
      ],
      "execution_count": null,
      "outputs": []
    },
    {
      "cell_type": "code",
      "metadata": {
        "id": "Qxl7iKPAQxfL",
        "colab_type": "code",
        "colab": {}
      },
      "source": [
        "labels_test = test_labels.to_list()"
      ],
      "execution_count": null,
      "outputs": []
    },
    {
      "cell_type": "code",
      "metadata": {
        "colab_type": "code",
        "id": "XUOWRE1lJ-B6",
        "colab": {}
      },
      "source": [
        "class_names = ['Отрицательная', 'Нейтральная', 'Положительная']\n",
        "print(classification_report(y_true=labels_test, \n",
        "                            y_pred=labels_pred,\n",
        "                            target_names=class_names))"
      ],
      "execution_count": null,
      "outputs": []
    },
    {
      "cell_type": "code",
      "metadata": {
        "id": "0Yhsfnbn1jur",
        "colab_type": "code",
        "colab": {}
      },
      "source": [
        "df.shape"
      ],
      "execution_count": null,
      "outputs": []
    },
    {
      "cell_type": "code",
      "metadata": {
        "id": "K9NRQz9w1eam",
        "colab_type": "code",
        "colab": {}
      },
      "source": [
        "rf_clf.fit(train_features, train_labels)"
      ],
      "execution_count": null,
      "outputs": []
    },
    {
      "cell_type": "markdown",
      "metadata": {
        "colab_type": "text",
        "id": "dFU4jLlKQVae"
      },
      "source": [
        "##### Сохраняем результаты"
      ]
    },
    {
      "cell_type": "code",
      "metadata": {
        "colab_type": "code",
        "id": "4k18is8yQVaj",
        "colab": {}
      },
      "source": [
        "filename = 'rf_model.sav'\n",
        "pickle.dump(rf_clf, open(filename, 'wb'))"
      ],
      "execution_count": null,
      "outputs": []
    },
    {
      "cell_type": "markdown",
      "metadata": {
        "colab_type": "text",
        "id": "Lqldu8EFQVal"
      },
      "source": [
        "##### Загружаем модель"
      ]
    },
    {
      "cell_type": "code",
      "metadata": {
        "colab_type": "code",
        "id": "vju_QjqxQVam",
        "colab": {}
      },
      "source": [
        "!cp \"/content/gdrive/My Drive/rf_model.sav\" 'rf_model.sav'"
      ],
      "execution_count": null,
      "outputs": []
    },
    {
      "cell_type": "code",
      "metadata": {
        "colab_type": "code",
        "id": "q3jzA40OQVaq",
        "colab": {}
      },
      "source": [
        "filename = 'rf_model.sav'\n",
        "rf_clf = pickle.load(open(filename, 'rb'))\n",
        "rf_clf"
      ],
      "execution_count": null,
      "outputs": []
    },
    {
      "cell_type": "markdown",
      "metadata": {
        "id": "t4TOyiMxQGHY",
        "colab_type": "text"
      },
      "source": [
        "### Матрица ошибок"
      ]
    },
    {
      "cell_type": "code",
      "metadata": {
        "colab_type": "code",
        "id": "yTshJryrQLVp",
        "colab": {}
      },
      "source": [
        "def show_confusion_matrix(confusion_matrix):\n",
        "  hmap = sns.heatmap(confusion_matrix, annot=True, fmt=\"d\", cmap=\"Blues\")\n",
        "  hmap.yaxis.set_ticklabels(hmap.yaxis.get_ticklabels(), rotation=0, ha='right')\n",
        "  hmap.xaxis.set_ticklabels(hmap.xaxis.get_ticklabels(), rotation=30, ha='right')\n",
        "  plt.ylabel('Правильная тональность')\n",
        "  plt.xlabel('Предсказанная тональность');"
      ],
      "execution_count": null,
      "outputs": []
    },
    {
      "cell_type": "code",
      "metadata": {
        "id": "AFouHf0oQv-k",
        "colab_type": "code",
        "colab": {}
      },
      "source": [
        "cm = confusion_matrix(labels_test, labels_pred)\n",
        "cm"
      ],
      "execution_count": null,
      "outputs": []
    },
    {
      "cell_type": "code",
      "metadata": {
        "id": "p51puNr8MCMT",
        "colab_type": "code",
        "colab": {}
      },
      "source": [
        "df_pred = pd.DataFrame(data=list(zip(labels_test,labels_pred)), columns=['True','Predicted'])\n",
        "df_pred"
      ],
      "execution_count": null,
      "outputs": []
    },
    {
      "cell_type": "code",
      "metadata": {
        "id": "v4JBVoYaQ8sA",
        "colab_type": "code",
        "colab": {}
      },
      "source": [
        "class_names = ['Негативная', 'Нейтральная', 'Положительная']"
      ],
      "execution_count": null,
      "outputs": []
    },
    {
      "cell_type": "code",
      "metadata": {
        "colab_type": "code",
        "id": "W-IleNa_QLVt",
        "colab": {}
      },
      "source": [
        "df_cm = pd.DataFrame(cm, index=class_names, columns=class_names)\n",
        "show_confusion_matrix(df_cm)"
      ],
      "execution_count": null,
      "outputs": []
    },
    {
      "cell_type": "markdown",
      "metadata": {
        "id": "Wd_IR1KXS7VD",
        "colab_type": "text"
      },
      "source": [
        "## Предсказываем тональность"
      ]
    },
    {
      "cell_type": "markdown",
      "metadata": {
        "id": "INMdeSCUP6Iq",
        "colab_type": "text"
      },
      "source": [
        "#### По тексту"
      ]
    },
    {
      "cell_type": "code",
      "metadata": {
        "id": "YQxBNHOfOlWg",
        "colab_type": "code",
        "colab": {}
      },
      "source": [
        "txt = [\n",
        "       'Компания нацелена на предупреждение, сокращение и минимизацию последствий разливов нефти и нефтепродуктов',\n",
        "       'В Компании сформирована и развивается система оперативного реагирования на разливы нефти и нефтепродуктов, их локализации и ликвидации с целью минимизации экологических последствий, в том числе влияния на водные ресурсы',\n",
        "       ' В части «Раскрытия информации» место Компании в рейтинге экологической ответственности поднялось на восемь пунктов, с десятого на второе место по сравнению с предыдущим периодом',\n",
        "       'Главный актив Компании – это высокопрофессиональный персонал, мотивированный на эффективную работу',\n",
        "       'Повышение эффективности труда остается одним из ключевых приоритетов Компании. В рамках реализации этой задачи в 2018 году актуализированы внутрикорпоративные методики расчета показателей производительности труда по Компании в целом, по основным бизнес-блокам и Обществам Группы основных бизнес-блоков',\n",
        "       'В Компании разработан перечень мероприятий по росту производительности труда в Компании. Мероприятия включены в Долгосрочную программу развития Компании, отчет по исполнению которой происходит на ежегодной основе',\n",
        "       'Компания подвержена влиянию множества присущих нефтегазовой отрасли рисков, основными из которых являются снижение цен на нефть и нефтепродукты и рост цен на приобретаемое сырье и услуги',\n",
        "       'Компания ведет мониторинг законопроектов, что позволяет заблаговременно оценить последствия предлагаемых изменений и учесть их в своих планах. Компания имеет обширный опыт реализации проектов в области добычи и переработки углеводородного сырья, а также обладает финансовыми, материально-техническими и кадровыми ресурсами, необходимыми для выполнения обязательств по лицензионным соглашениям',\n",
        "       'Характерными для Компании финансовыми рисками являются валютный, процентный, инфляционный, кредитный риски и риск ликвидности. Данные риски могут негативно повлиять на финансовые результаты деятельности Компании вследствие роста расходов, обесценения активов, снижения рентабельности и денежного потока Компании',\n",
        "       'В региональном конкурсе реализованных проектов в области энергосбережения и повышения энергоэффективности ENES–2018 Компания признана победителем в двух номинациях: «Лучшая реализованная комплексная программа в ТЭК по популяризации энергосбережения и повышения энергоэффективности» и «Эффективная система управления в области энергосбережения и повышения энергоэффективности на предприятиях ТЭК»',\n",
        "       'Важное значение Компания придает программам, направленным на развитие и поддержку массового спорта, физического развития сотрудников и их детей',\n",
        "       'В целях повышения качества комплектования квалифицированными кадрами требуемых профессий и нужной квалификации в Компании проведено 7539 тестирований кандидатов на трудоустройство по 100 рабочим профессиям на базе компьютерных классов',\n",
        "       'Компания нацелена на предупреждение, сокращение и минимизацию последствий разливов нефти',\n",
        "       'В блоке «Нефтепереработка и нефтегазохимия» реализуется комплекс программ по обеспечению целостности оборудования и исключению аварийных ситуаций с неблагоприятными экологическими последствиями',\n",
        "       'Компания является одним из крупнейших работодателей в России'\n",
        "]"
      ],
      "execution_count": null,
      "outputs": []
    },
    {
      "cell_type": "code",
      "metadata": {
        "id": "4hm1RTuuJ0WW",
        "colab_type": "code",
        "colab": {}
      },
      "source": [
        "txt_tk = [tkz.encode(tkz.tokenize(x)) for x in txt]"
      ],
      "execution_count": null,
      "outputs": []
    },
    {
      "cell_type": "code",
      "metadata": {
        "id": "PgnSVYruPM2w",
        "colab_type": "code",
        "colab": {}
      },
      "source": [
        "max_len = 0\n",
        "for i in txt_tk:\n",
        "    if len(i) > max_len:\n",
        "        max_len = len(i)\n",
        "print(max_len)"
      ],
      "execution_count": null,
      "outputs": []
    },
    {
      "cell_type": "code",
      "metadata": {
        "id": "R2n2dBTkJ0S2",
        "colab_type": "code",
        "colab": {}
      },
      "source": [
        "padded = np.array([i + [0]*(max_len-len(i)) for i in txt_tk])"
      ],
      "execution_count": null,
      "outputs": []
    },
    {
      "cell_type": "code",
      "metadata": {
        "id": "Lj39Qt61J0QN",
        "colab_type": "code",
        "colab": {}
      },
      "source": [
        "attention_mask = np.where(padded != 0, 1, 0)\n",
        "attention_mask.shape"
      ],
      "execution_count": null,
      "outputs": []
    },
    {
      "cell_type": "code",
      "metadata": {
        "colab_type": "code",
        "id": "3dky54VWJX6d",
        "colab": {}
      },
      "source": [
        "input_ids = torch.tensor(padded)  \n",
        "attention_mask = torch.tensor(attention_mask)\n",
        "\n",
        "with torch.no_grad():\n",
        "    last_hidden_states = model(input_ids, attention_mask=attention_mask)"
      ],
      "execution_count": null,
      "outputs": []
    },
    {
      "cell_type": "code",
      "metadata": {
        "colab_type": "code",
        "id": "3QJ8cGrxJX6i",
        "colab": {}
      },
      "source": [
        "features = last_hidden_states[0][:,0,:].numpy()"
      ],
      "execution_count": null,
      "outputs": []
    },
    {
      "cell_type": "code",
      "metadata": {
        "colab_type": "code",
        "id": "lTi0VX2TJX6k",
        "colab": {}
      },
      "source": [
        "features"
      ],
      "execution_count": null,
      "outputs": []
    },
    {
      "cell_type": "code",
      "metadata": {
        "id": "wJYN_EtAWuOL",
        "colab_type": "code",
        "colab": {}
      },
      "source": [
        "preds = list(rf_clf.predict(features))\n",
        "preds"
      ],
      "execution_count": null,
      "outputs": []
    },
    {
      "cell_type": "code",
      "metadata": {
        "id": "VjqYh5nOr1Nd",
        "colab_type": "code",
        "colab": {}
      },
      "source": [
        "classes_dict = {-1:'negative', 0:'neutral', 1:'positive'}\n",
        "classes_dict"
      ],
      "execution_count": null,
      "outputs": []
    },
    {
      "cell_type": "code",
      "metadata": {
        "id": "PEvHNdH8Mxqc",
        "colab_type": "code",
        "colab": {}
      },
      "source": [
        "preds_ls = list(zip(txt, preds))"
      ],
      "execution_count": null,
      "outputs": []
    },
    {
      "cell_type": "code",
      "metadata": {
        "id": "TJESPNrKr1Lz",
        "colab_type": "code",
        "colab": {}
      },
      "source": [
        "for k,v in preds_ls:\n",
        "  print(classes_dict.get(v), k, sep=' : ')"
      ],
      "execution_count": null,
      "outputs": []
    },
    {
      "cell_type": "markdown",
      "metadata": {
        "id": "PleZZZItnBbr",
        "colab_type": "text"
      },
      "source": [
        "#### По нефинансовым отчетам"
      ]
    },
    {
      "cell_type": "markdown",
      "metadata": {
        "id": "u9ULkhIMnOXo",
        "colab_type": "text"
      },
      "source": [
        "##### Предварительная обработка текста\n"
      ]
    },
    {
      "cell_type": "code",
      "metadata": {
        "id": "EWx_2k62n51l",
        "colab_type": "code",
        "colab": {}
      },
      "source": [
        "INPUT_DIR ='/content/gdrive/My Drive/'\n",
        "REPORTS_DIR = '/content/reports/'\n",
        "\n",
        "try:\n",
        "  os.mkdir(REPORTS_DIR)\n",
        "except FileExistsError:\n",
        "      print(REPORTS_DIR+' already exists')"
      ],
      "execution_count": null,
      "outputs": []
    },
    {
      "cell_type": "code",
      "metadata": {
        "id": "lx1wZKtQn8Tn",
        "colab_type": "code",
        "colab": {}
      },
      "source": [
        "def clean_df(file_r, df):\n",
        "\n",
        "  # Считываем текстовый файл с отчетом в таблицу, одна строка таблицы - один абзац текста\n",
        "  df = pd.read_csv(file_r, sep='\\n',header=None, names=['Sentence'],quoting=csv.QUOTE_NONE) \n",
        "\n",
        "  # Вычисляем длину строк, оставляем те, длина которых превышает 3 слова\n",
        "  df['len'] = df.Sentence.apply(lambda x: len(x.split()))\n",
        "  df = df[df.len >=3]\n",
        "\n",
        "  # Разбиваем абзацы на отдельные предложения\n",
        "  new_df = pd.DataFrame(df.Sentence.str.split('.').tolist(), index=df.index).stack()\n",
        "  new_df = new_df.reset_index()\n",
        "  new_df = new_df.drop(columns=['level_0', 'level_1'])\n",
        "  new_df.columns = ['Sentence']\n",
        "  new_df['len'] = new_df.Sentence.apply(lambda x: len(x.split()))\n",
        "\n",
        "  # Обрабатываем текст: переводим слова в нижний регистр, оставляем предложения длиной больше 5 слов, оставляем только альфанумерические символы\n",
        "  new_df.Sentence = new_df.Sentence.apply(lambda x: x.lower())\n",
        "  new_df = new_df[new_df.len >=5]\n",
        "  new_df.Sentence = new_df.Sentence.apply(lambda x: ' '.join(x for x in x.split() if x.isalnum()))\n",
        "\n",
        "  # Сохраняем обработанный текст отчета\n",
        "  file_w = file_r.strip('.txt')\n",
        "  new_df.to_csv(path_or_buf=\"/content/reports/{}.csv\".format(file_w)) \n",
        "\n",
        "  return new_df"
      ],
      "execution_count": null,
      "outputs": []
    },
    {
      "cell_type": "markdown",
      "metadata": {
        "id": "3RegI_7IoAXi",
        "colab_type": "text"
      },
      "source": [
        "Загружаем локально сохраненный текстовый файл"
      ]
    },
    {
      "cell_type": "code",
      "metadata": {
        "id": "Jab7ZWSnn-dd",
        "colab_type": "code",
        "colab": {}
      },
      "source": [
        "from google.colab import files\n",
        "\n",
        "uploaded = files.upload() \n",
        "filename = [x for x in uploaded.keys()][0]\n",
        "output_name = filename.replace('.txt','.csv')\n",
        "print('input: ',filename, 'output: ', output_name)"
      ],
      "execution_count": null,
      "outputs": []
    },
    {
      "cell_type": "code",
      "metadata": {
        "id": "XZaMKYXToF1C",
        "colab_type": "code",
        "colab": {}
      },
      "source": [
        "df = pd.read_csv(filename, sep='\\n',header=None, names=['Sentence'], quoting=csv.QUOTE_NONE)"
      ],
      "execution_count": null,
      "outputs": []
    },
    {
      "cell_type": "markdown",
      "metadata": {
        "id": "ZPomPBcEoH5e",
        "colab_type": "text"
      },
      "source": [
        "Обрабатываем и сохраняем текст"
      ]
    },
    {
      "cell_type": "code",
      "metadata": {
        "id": "BQqS8IbDoGlm",
        "colab_type": "code",
        "colab": {}
      },
      "source": [
        "df = clean_df(file_r=filename, df=df)\n",
        "df.head(2)"
      ],
      "execution_count": null,
      "outputs": []
    },
    {
      "cell_type": "markdown",
      "metadata": {
        "id": "3iXDm8Axofha",
        "colab_type": "text"
      },
      "source": [
        "Проверяем наличие файла"
      ]
    },
    {
      "cell_type": "code",
      "metadata": {
        "id": "KZiaP5VooexG",
        "colab_type": "code",
        "colab": {}
      },
      "source": [
        "%cd /content/reports\n",
        "!ls"
      ],
      "execution_count": null,
      "outputs": []
    },
    {
      "cell_type": "markdown",
      "metadata": {
        "id": "X73rO5l5nmD5",
        "colab_type": "text"
      },
      "source": [
        "##### Генерация предсказаний"
      ]
    },
    {
      "cell_type": "markdown",
      "metadata": {
        "id": "g6s5ghnFnqh-",
        "colab_type": "text"
      },
      "source": [
        "Токенизируем текст, генерируем признаки, используем обученный на обучающей выборке классификатор для предсказания тональности"
      ]
    },
    {
      "cell_type": "code",
      "metadata": {
        "colab_type": "code",
        "id": "C-F-WSerrInA",
        "colab": {}
      },
      "source": [
        "from transformers import AutoTokenizer\n",
        "from transformers import AutoModelWithLMHead"
      ],
      "execution_count": null,
      "outputs": []
    },
    {
      "cell_type": "code",
      "metadata": {
        "colab_type": "code",
        "id": "LCkUYGETrInE",
        "colab": {}
      },
      "source": [
        "tkz = AutoTokenizer.from_pretrained(\"DeepPavlov/rubert-base-cased-sentence\")"
      ],
      "execution_count": null,
      "outputs": []
    },
    {
      "cell_type": "code",
      "metadata": {
        "colab_type": "code",
        "id": "zrsghYWurgdN",
        "colab": {}
      },
      "source": [
        "model = AutoModelWithLMHead.from_pretrained(\"DeepPavlov/rubert-base-cased-sentence\")"
      ],
      "execution_count": null,
      "outputs": []
    },
    {
      "cell_type": "code",
      "metadata": {
        "id": "btkCTEC4nwvN",
        "colab_type": "code",
        "colab": {}
      },
      "source": [
        "def prepare_df(df):\n",
        "  df = df.drop_duplicates(subset=['Sentence'])\n",
        "  df.Sentence = df.Sentence.map(lambda x: str(x).lower()) # переводим символы в нижний регистр\n",
        "  df['tokenized'] = df.Sentence.apply(lambda x: tkz.encode(tkz.tokenize(x)))\n",
        "  display(df.head())\n",
        "  print(df.shape)\n",
        "  return df"
      ],
      "execution_count": null,
      "outputs": []
    },
    {
      "cell_type": "code",
      "metadata": {
        "id": "3WFV_mxtnI2Y",
        "colab_type": "code",
        "colab": {}
      },
      "source": [
        "def get_sentiment(df, max_length=50):\n",
        "  max_len = 0\n",
        "  long_ls = []\n",
        "  for index, i in df.tokenized.iteritems():\n",
        "    if len(i) > max_len:\n",
        "        max_len = len(i)\n",
        "    if len(i) > max_length:\n",
        "      long_ls.append(index)\n",
        "\n",
        "  print('Максимальная длина токена:', max_len)\n",
        "  print('Предложения, превышающие ограничение по длине:', len(long_ls))\n",
        "\n",
        "  df = df.drop(long_ls)\n",
        "  print(df.shape)\n",
        "\n",
        "  padded = np.array([i + [0]*(max_length-len(i)) for i in df.tokenized.values])\n",
        "\n",
        "  attention_mask = np.where(padded != 0, 1, 0)\n",
        "  print(attention_mask.shape)\n",
        "\n",
        "  input_ids = torch.tensor(padded)  \n",
        "  attention_mask = torch.tensor(attention_mask)\n",
        "\n",
        "  print('-'*20)\n",
        "  print('Обучение модели')\n",
        "  print('-'*20) \n",
        "  begin = time.time()\n",
        "\n",
        "  with torch.no_grad():\n",
        "    last_hidden_states = model(input_ids, attention_mask=attention_mask)\n",
        "  \n",
        "  end = time.time()\n",
        "  print('Обучение завершено')\n",
        "  print('Обучение заняло:', \"{:.3f}\".format(round(end-begin, 3)), 'секунд')\n",
        "  print('-'*20)\n",
        "\n",
        "  features = last_hidden_states[0][:,0,:].numpy()\n",
        "\n",
        "  # predicted = list(rf_clf.predict(features))\n",
        "  predicted = list(lr_clf.predict(features))\n",
        "  pred_dict = dict()\n",
        "\n",
        "  for i in set(predicted):\n",
        "    if i not in pred_dict.keys():\n",
        "      pred_dict[i] = predicted.count(i)\n",
        "  \n",
        "  df['preds'] = predicted\n",
        "  preds = pd.DataFrame(data=predicted, columns=['Prediction'])\n",
        "\n",
        "  assert len(df) == len(preds)\n",
        "\n",
        "  ton = np.mean(predicted)\n",
        "  neg = pred_dict.get(-1,0) / len(predicted)\n",
        "  pos = pred_dict.get(1,0) / len(predicted)\n",
        "  neut = pred_dict.get(0,0) / len(predicted)\n",
        "  stats = dict(neutral=neut, positive=pos, negative=neg, tonality=ton)\n",
        "  df_stats = pd.DataFrame(data=stats, index=[0])\n",
        "\n",
        "  return df, df_stats"
      ],
      "execution_count": null,
      "outputs": []
    },
    {
      "cell_type": "markdown",
      "metadata": {
        "id": "JkZDmVT0Dv1Y",
        "colab_type": "text"
      },
      "source": [
        "Загружаем нефинансовый отчет"
      ]
    },
    {
      "cell_type": "code",
      "metadata": {
        "id": "0TfZu8pKju_N",
        "colab_type": "code",
        "colab": {}
      },
      "source": [
        "!ls \"/content/gdrive/My Drive/\""
      ],
      "execution_count": null,
      "outputs": []
    },
    {
      "cell_type": "code",
      "metadata": {
        "id": "1DJTn4QxFIVy",
        "colab_type": "code",
        "colab": {}
      },
      "source": [
        "# !cp \"/content/gdrive/My Drive/NVTK_17.csv\" \"NVTK_17.csv\""
      ],
      "execution_count": null,
      "outputs": []
    },
    {
      "cell_type": "code",
      "metadata": {
        "colab_type": "code",
        "id": "4qWulnPyQosq",
        "colab": {}
      },
      "source": [
        "report_name = 'NVTK_17.csv' # заменяем название отчета\n",
        "df = pd.read_csv(report_name, header=0,\n",
        "                  sep=',')"
      ],
      "execution_count": null,
      "outputs": []
    },
    {
      "cell_type": "code",
      "metadata": {
        "id": "6UoVgwegQK--",
        "colab_type": "code",
        "colab": {}
      },
      "source": [
        "df.drop(columns=['Unnamed: 0'], inplace=True) # Удаляем лишний столбец"
      ],
      "execution_count": null,
      "outputs": []
    },
    {
      "cell_type": "code",
      "metadata": {
        "id": "Yx91MvRKQamz",
        "colab_type": "code",
        "colab": {}
      },
      "source": [
        "df.head(2)"
      ],
      "execution_count": null,
      "outputs": []
    },
    {
      "cell_type": "code",
      "metadata": {
        "id": "fiG8-u4Kn4Ws",
        "colab_type": "code",
        "colab": {}
      },
      "source": [
        "df = prepare_df(df)"
      ],
      "execution_count": null,
      "outputs": []
    },
    {
      "cell_type": "markdown",
      "metadata": {
        "id": "hFN_y2HopEDV",
        "colab_type": "text"
      },
      "source": [
        "Делим отчет на несколько частей, чтобы уложиться в ограничения по памяти при генерации признаков. Лучше использовать не более 500 предложений за одну итерацию."
      ]
    },
    {
      "cell_type": "code",
      "metadata": {
        "id": "NsDbAdVQFbuN",
        "colab_type": "code",
        "colab": {}
      },
      "source": [
        "df_1 = df[:500]\n",
        "df_2 = df[500:1000]\n",
        "df_3 = df[1000:]"
      ],
      "execution_count": null,
      "outputs": []
    },
    {
      "cell_type": "markdown",
      "metadata": {
        "id": "u7pTKrcCphFW",
        "colab_type": "text"
      },
      "source": [
        "Предсказываем тональность и смотрим на получившиеся результаты"
      ]
    },
    {
      "cell_type": "code",
      "metadata": {
        "id": "73sNgBSfrCoZ",
        "colab_type": "code",
        "colab": {}
      },
      "source": [
        "df_final, df_stats = get_sentiment(df_1, max_length=62)"
      ],
      "execution_count": null,
      "outputs": []
    },
    {
      "cell_type": "code",
      "metadata": {
        "id": "JDqRaRt3RLAZ",
        "colab_type": "code",
        "colab": {}
      },
      "source": [
        "df_stats"
      ],
      "execution_count": null,
      "outputs": []
    },
    {
      "cell_type": "code",
      "metadata": {
        "id": "Bz8pDIMbG2zm",
        "colab_type": "code",
        "colab": {}
      },
      "source": [
        "stats = dict(neutral=neut/total, positive=pos/total, negative=neg/total, tonality=ton)\n",
        "df_stats = pd.DataFrame(data=stats, index=[0])\n",
        "df_stats"
      ],
      "execution_count": null,
      "outputs": []
    }
  ]
}