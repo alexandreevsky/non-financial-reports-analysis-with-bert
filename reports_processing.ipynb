{
  "nbformat": 4,
  "nbformat_minor": 0,
  "metadata": {
    "colab": {
      "name": "reports_processing.ipynb",
      "provenance": [],
      "collapsed_sections": [],
      "toc_visible": true
    },
    "kernelspec": {
      "name": "python3",
      "display_name": "Python 3"
    }
  },
  "cells": [
    {
      "cell_type": "markdown",
      "metadata": {
        "id": "yNWSPwkDEEos",
        "colab_type": "text"
      },
      "source": [
        "## Предварительная обработка текстовых файлов "
      ]
    },
    {
      "cell_type": "markdown",
      "metadata": {
        "id": "7JMMUlKNEP31",
        "colab_type": "text"
      },
      "source": [
        "После распознавания текстов отчетов их предстоит дополнительно обработать."
      ]
    },
    {
      "cell_type": "markdown",
      "metadata": {
        "id": "-4wdnLY6XVcb",
        "colab_type": "text"
      },
      "source": [
        "#### Загружаем библиотеки, создаем вспомогательную функцию для обработки текста, указываем директорию для сохранения файлов"
      ]
    },
    {
      "cell_type": "code",
      "metadata": {
        "id": "D0oG6ts8qaEO",
        "colab_type": "code",
        "colab": {}
      },
      "source": [
        "import numpy as np\n",
        "import pandas as pd\n",
        "import seaborn as sns\n",
        "import plotly.graph_objs as go\n",
        "import matplotlib.pyplot as plt\n",
        "from matplotlib import rc\n",
        "\n",
        "import csv\n",
        "import os\n"
      ],
      "execution_count": 0,
      "outputs": []
    },
    {
      "cell_type": "code",
      "metadata": {
        "id": "M_3HjkCJYIx0",
        "colab_type": "code",
        "colab": {}
      },
      "source": [
        "INPUT_DIR ='/content/gdrive/My Drive/'\n",
        "REPORTS_DIR = '/content/reports/'\n",
        "\n",
        "try:\n",
        "  os.mkdir(REPORTS_DIR)\n",
        "except FileExistsError:\n",
        "      print(REPORTS_DIR+' already exists')\n"
      ],
      "execution_count": 0,
      "outputs": []
    },
    {
      "cell_type": "code",
      "metadata": {
        "id": "2LDunT_Mtp7C",
        "colab_type": "code",
        "colab": {}
      },
      "source": [
        "def clean_df(file_r, df):\n",
        "\n",
        "  # Считываем текстовый файл с отчетом в таблицу, одна строка таблицы - один абзац текста\n",
        "  df = pd.read_csv(file_r, sep='\\n',header=None, names=['Sentence'],quoting=csv.QUOTE_NONE) \n",
        "\n",
        "  # Вычисляем длину строк, оставляем те, длина которых превышает 3 слова\n",
        "  df['len'] = df.Sentence.apply(lambda x: len(x.split()))\n",
        "  df = df[df.len >=3]\n",
        "\n",
        "  # Разбиваем абзацы на отдельные предложения\n",
        "  new_df = pd.DataFrame(df.Sentence.str.split('.').tolist(), index=df.index).stack()\n",
        "  new_df = new_df.reset_index()\n",
        "  new_df = new_df.drop(columns=['level_0', 'level_1'])\n",
        "  new_df.columns = ['Sentence']\n",
        "  new_df['len'] = new_df.Sentence.apply(lambda x: len(x.split()))\n",
        "\n",
        "  # Обрабатываем текст: переводим слова в нижний регистр, оставляем предложения длиной больше 5 слов, оставляем только альфанумерические символы\n",
        "  new_df.Sentence = new_df.Sentence.apply(lambda x: x.lower())\n",
        "  new_df = new_df[new_df.len >=5]\n",
        "  new_df.Sentence = new_df.Sentence.apply(lambda x: ' '.join(x for x in x.split() if x.isalnum()))\n",
        "\n",
        "  # Сохраняем обработанный текст отчета\n",
        "  file_w = file_r.strip('.txt')\n",
        "  new_df.to_csv(path_or_buf=\"/content/reports/{}.csv\".format(file_w)) \n",
        "\n",
        "  return new_df"
      ],
      "execution_count": 0,
      "outputs": []
    },
    {
      "cell_type": "markdown",
      "metadata": {
        "id": "PVJjTwsfXJou",
        "colab_type": "text"
      },
      "source": [
        "#### Загружаем локально сохраненный текстовый файл"
      ]
    },
    {
      "cell_type": "code",
      "metadata": {
        "id": "6dnMghv1_aJb",
        "colab_type": "code",
        "colab": {}
      },
      "source": [
        "from google.colab import drive\n",
        "drive.mount('/content/gdrive')"
      ],
      "execution_count": 0,
      "outputs": []
    },
    {
      "cell_type": "code",
      "metadata": {
        "id": "bxhTYIDbrKEr",
        "colab_type": "code",
        "colab": {}
      },
      "source": [
        "from google.colab import files\n",
        "\n",
        "uploaded = files.upload() \n",
        "filename = [x for x in uploaded.keys()][0]\n",
        "output_name = filename.replace('.txt','.csv')\n",
        "print('input: ',filename, 'output: ', output_name)"
      ],
      "execution_count": 0,
      "outputs": []
    },
    {
      "cell_type": "code",
      "metadata": {
        "id": "yx2LjTFhqiKg",
        "colab_type": "code",
        "colab": {}
      },
      "source": [
        "df = pd.read_csv(filename, sep='\\n',header=None, names=['Sentence'], quoting=csv.QUOTE_NONE)"
      ],
      "execution_count": 0,
      "outputs": []
    },
    {
      "cell_type": "markdown",
      "metadata": {
        "id": "C7g7zYhWDDe4",
        "colab_type": "text"
      },
      "source": [
        "#### Обрабатываем и сохраняем текст"
      ]
    },
    {
      "cell_type": "code",
      "metadata": {
        "id": "QHB_fktFYTMp",
        "colab_type": "code",
        "colab": {}
      },
      "source": [
        "df = clean_df(file_r=filename, df=df)\n",
        "df.head(2)"
      ],
      "execution_count": 0,
      "outputs": []
    },
    {
      "cell_type": "markdown",
      "metadata": {
        "id": "p5Ka8MNKgN40",
        "colab_type": "text"
      },
      "source": [
        "\n",
        "Проверяем наличие файла"
      ]
    },
    {
      "cell_type": "code",
      "metadata": {
        "id": "PbDG96YzZZWg",
        "colab_type": "code",
        "colab": {}
      },
      "source": [
        "%cd /content/reports\n",
        "!ls "
      ],
      "execution_count": 0,
      "outputs": []
    }
  ]
}